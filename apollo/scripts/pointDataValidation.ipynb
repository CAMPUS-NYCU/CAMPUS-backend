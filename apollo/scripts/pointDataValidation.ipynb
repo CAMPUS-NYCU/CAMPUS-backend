{
 "cells": [
  {
   "cell_type": "code",
   "execution_count": 1,
   "metadata": {},
   "outputs": [],
   "source": [
    "import plotly.express as px\n",
    "import json"
   ]
  },
  {
   "cell_type": "code",
   "execution_count": 7,
   "metadata": {},
   "outputs": [],
   "source": [
    "with open(\"../fixedPointData.json\") as f:\n",
    "    points = json.load(f)"
   ]
  },
  {
   "cell_type": "code",
   "execution_count": 8,
   "metadata": {},
   "outputs": [
    {
     "data": {
      "text/plain": [
       "[{'locationName': '圖書館',\n",
       "  'coordinates': {'latitude': '24.786606833598242',\n",
       "   'longitude': '120.99820507103847'},\n",
       "  'viewCount': 0,\n",
       "  'information': [{'type': 'floor', 'floor': '2F'},\n",
       "   {'type': 'floor', 'floor': '3F'},\n",
       "   {'type': 'floor', 'floor': '4F'},\n",
       "   {'type': 'floor', 'floor': '5F'},\n",
       "   {'type': 'floor', 'floor': '6F'},\n",
       "   {'type': 'floor', 'floor': '7F'},\n",
       "   {'type': 'floor', 'name': '24K', 'floor': 'B1'}]},\n",
       " {'locationName': '第二餐廳',\n",
       "  'coordinates': {'latitude': '24.789345225611136',\n",
       "   'longitude': '120.99719144686011'},\n",
       "  'viewCount': 0,\n",
       "  'information': [{'type': 'restaurant-store', 'name': '太祖魷魚羹', 'floor': '1F'},\n",
       "   {'type': 'restaurant-store', 'name': '姊妹便當', 'floor': '1F'},\n",
       "   {'type': 'restaurant-store', 'name': '賈董的麵', 'floor': '1F'},\n",
       "   {'type': 'restaurant-store', 'name': '男子漢鐵人火山丼', 'floor': '1F'},\n",
       "   {'type': 'restaurant-store', 'name': '拉亞漢堡', 'floor': '1F'},\n",
       "   {'type': 'restaurant-store', 'name': '茶壇 Tea Tank', 'floor': '1F'},\n",
       "   {'type': 'restaurant-store', 'name': '7-11', 'floor': '1F'},\n",
       "   {'type': 'restaurant-store', 'name': 'Subway', 'floor': '1F'},\n",
       "   {'type': 'floor', 'floor': '1F'},\n",
       "   {'type': 'restaurant-store', 'name': '隆太郎金牌燒臘', 'floor': '2F'},\n",
       "   {'type': 'restaurant-store', 'name': '素怡園', 'floor': '2F'},\n",
       "   {'type': 'restaurant-store', 'name': '茗松美食', 'floor': '2F'},\n",
       "   {'type': 'restaurant-store', 'name': '多多咖啡廳', 'floor': '2F'},\n",
       "   {'type': 'restaurant-store', 'name': '果汁甜品吧', 'floor': '2F'},\n",
       "   {'type': 'floor', 'floor': '2F'}]},\n",
       " {'locationName': '小木屋鬆餅',\n",
       "  'coordinates': {'latitude': '24.787687190478',\n",
       "   'longitude': '120.99764017172566'},\n",
       "  'viewCount': 0,\n",
       "  'information': [{'type': 'floor', 'floor': '1F'}]},\n",
       " {'locationName': '第一餐廳',\n",
       "  'coordinates': {'latitude': '24.786538076257727',\n",
       "   'longitude': '120.99939833724402'},\n",
       "  'viewCount': 0,\n",
       "  'information': [{'type': 'restaurant-store',\n",
       "    'name': '完顏南洋料理',\n",
       "    'floor': '1F'},\n",
       "   {'type': 'restaurant-store', 'name': '月香壽司', 'floor': '1F'},\n",
       "   {'type': 'restaurant-store', 'name': '亮亮朝食', 'floor': '1F'},\n",
       "   {'type': 'restaurant-store', 'name': '湘之坊歐式自助吧', 'floor': '1F'},\n",
       "   {'type': 'restaurant-store', 'name': '湘之坊歐式自助吧（炒飯、可麗餅）', 'floor': '1F'},\n",
       "   {'type': 'restaurant-store', 'name': '軒韻手作茶飲', 'floor': '1F'},\n",
       "   {'type': 'restaurant-store', 'name': '相信誠實商店', 'floor': '1F'},\n",
       "   {'type': 'restaurant-store', 'name': 'LALA Kitchen', 'floor': '1F'},\n",
       "   {'type': 'floor', 'floor': '1F'}]},\n",
       " {'locationName': '女二餐廳 - B棟',\n",
       "  'coordinates': {'latitude': '24.784575202593278',\n",
       "   'longitude': '120.99950190913825'},\n",
       "  'viewCount': 0,\n",
       "  'information': [{'type': 'restaurant-store', 'name': '麥當勞', 'floor': '1F'},\n",
       "   {'type': 'restaurant-store', 'name': '全家', 'floor': '1F'},\n",
       "   {'type': 'floor', 'floor': '1F'}]},\n",
       " {'locationName': '女二餐廳 - A棟',\n",
       "  'coordinates': {'latitude': '24.78460447175565',\n",
       "   'longitude': '120.99913188952512'},\n",
       "  'viewCount': 0,\n",
       "  'information': [{'type': 'restaurant-store', 'name': 'A華滷味', 'floor': '1F'},\n",
       "   {'type': 'restaurant-store', 'name': '郁百分水果店', 'floor': '1F'},\n",
       "   {'type': 'restaurant-store', 'name': '品嘉日式料理', 'floor': '1F'},\n",
       "   {'type': 'restaurant-store', 'name': '比司多早午餐', 'floor': '1F'},\n",
       "   {'type': 'restaurant-store', 'name': '極麵道', 'floor': '1F'},\n",
       "   {'type': 'restaurant-store', 'name': '全美自助餐', 'floor': '1F'},\n",
       "   {'type': 'restaurant-store', 'name': '路易莎咖啡', 'floor': '1F'},\n",
       "   {'type': 'restaurant-store', 'name': '天晟燒臘', 'floor': '2F'},\n",
       "   {'type': 'restaurant-store', 'name': '大聯大百貨', 'floor': '2F'},\n",
       "   {'type': 'floor', 'floor': 'A棟'}]},\n",
       " {'locationName': '研三餐廳',\n",
       "  'coordinates': {'latitude': '24.783807451368112',\n",
       "   'longitude': '120.9970736962237'},\n",
       "  'viewCount': 0,\n",
       "  'information': [{'type': 'restaurant-store', 'name': '全家', 'floor': '1F'},\n",
       "   {'type': 'restaurant-store', 'name': '漢堡王', 'floor': '1F'},\n",
       "   {'type': 'restaurant-store', 'name': '初韻', 'floor': '1F'},\n",
       "   {'type': 'restaurant-store', 'name': '四海遊龍', 'floor': '1F'},\n",
       "   {'type': 'restaurant-store', 'name': '黑貓潮滷味', 'floor': '1F'},\n",
       "   {'type': 'restaurant-store', 'name': '李記小館', 'floor': '1F'},\n",
       "   {'type': 'restaurant-store', 'name': '比司多', 'floor': '1F'},\n",
       "   {'type': 'restaurant-store', 'name': '7-11', 'floor': '1F'},\n",
       "   {'type': 'restaurant-store', 'name': '奶油廚房', 'floor': '1F'},\n",
       "   {'type': 'floor', 'floor': '1F'}]},\n",
       " {'locationName': '綜合球館',\n",
       "  'coordinates': {'latitude': '24.78989676741009',\n",
       "   'longitude': '120.99505052315682'},\n",
       "  'viewCount': 0,\n",
       "  'information': [{'type': 'sports', 'name': '羽球場', 'floor': 'B1'},\n",
       "   {'type': 'sports', 'name': '網球', 'floor': '1F'},\n",
       "   {'type': 'sports', 'name': '桌球', 'floor': '1F'}]},\n",
       " {'locationName': '游泳館',\n",
       "  'coordinates': {'latitude': '24.78994836636744',\n",
       "   'longitude': '120.99588582600177'},\n",
       "  'viewCount': 0,\n",
       "  'information': [{'type': 'sports', 'name': '游泳池', 'floor': '1F'},\n",
       "   {'type': 'floor', 'floor': '1F'},\n",
       "   {'type': 'sports', 'name': '健身中心', 'floor': '2F'},\n",
       "   {'type': 'sports', 'name': '體適能教室', 'floor': '2F'},\n",
       "   {'type': 'floor', 'floor': '2F'}]},\n",
       " {'locationName': '西區球場（籃球場）',\n",
       "  'coordinates': {'latitude': '24.787529799424163',\n",
       "   'longitude': '120.99493029548856'},\n",
       "  'viewCount': 0,\n",
       "  'information': [{'type': 'sports', 'name': '籃球B', 'floor': '1F'},\n",
       "   {'type': 'sports', 'name': '籃球C', 'floor': '1F'},\n",
       "   {'type': 'sports', 'name': '籃球D', 'floor': '1F'},\n",
       "   {'type': 'sports', 'name': '籃球E', 'floor': '1F'},\n",
       "   {'type': 'sports', 'name': '籃球F', 'floor': '1F'},\n",
       "   {'type': 'sports', 'name': '籃球G', 'floor': '1F'},\n",
       "   {'type': 'sports', 'name': '籃球H', 'floor': '1F'},\n",
       "   {'type': 'sports', 'name': '籃球I', 'floor': '1F'}]},\n",
       " {'locationName': '西區球場（排球場）',\n",
       "  'coordinates': {'latitude': '24.78795350500375',\n",
       "   'longitude': '120.9949437065332'},\n",
       "  'viewCount': 0,\n",
       "  'information': [{'type': 'sports', 'name': '排球二', 'floor': '1F'},\n",
       "   {'type': 'sports', 'name': '排球三', 'floor': '1F'},\n",
       "   {'type': 'sports', 'name': '排球四', 'floor': '1F'},\n",
       "   {'type': 'sports', 'name': '排球五', 'floor': '1F'},\n",
       "   {'type': 'sports', 'name': '排球六', 'floor': '1F'},\n",
       "   {'type': 'sports', 'name': '排球七', 'floor': '1F'}]},\n",
       " {'locationName': '西區球場（網球場）',\n",
       "  'coordinates': {'latitude': '24.787286289815594',\n",
       "   'longitude': '120.99471840098307'},\n",
       "  'viewCount': 0,\n",
       "  'information': [{'type': 'sports', 'name': '網球A', 'floor': '1F'},\n",
       "   {'type': 'sports', 'name': '網球B', 'floor': '1F'},\n",
       "   {'type': 'sports', 'name': '網球C', 'floor': '1F'}]},\n",
       " {'locationName': '東區球場（羽球舊館）',\n",
       "  'coordinates': {'latitude': '24.78712029314653',\n",
       "   'longitude': '121.00140408586178'},\n",
       "  'viewCount': 0,\n",
       "  'information': [{'type': 'sports', 'name': '羽球舊館', 'floor': '1F'}]},\n",
       " {'locationName': '東區球場（戶外網球場）',\n",
       "  'coordinates': {'latitude': '24.78754101633732',\n",
       "   'longitude': '121.0014888461622'},\n",
       "  'viewCount': 0,\n",
       "  'information': [{'type': 'sports', 'name': '戶外網球場', 'floor': '1F'}]},\n",
       " {'locationName': '體育館',\n",
       "  'coordinates': {'latitude': '24.788936658471613',\n",
       "   'longitude': '120.99577723048645'},\n",
       "  'viewCount': 0,\n",
       "  'information': [{'type': 'sports', 'name': '籃球場', 'floor': '1F'},\n",
       "   {'type': 'sports', 'name': '排球場', 'floor': '1F'},\n",
       "   {'type': 'floor', 'floor': '1F'},\n",
       "   {'type': 'sports', 'name': '舊健身房', 'floor': 'B1'},\n",
       "   {'type': 'sports', 'name': '韻律教室', 'floor': 'B1'},\n",
       "   {'type': 'floor', 'floor': 'B1'}]}]"
      ]
     },
     "execution_count": 8,
     "metadata": {},
     "output_type": "execute_result"
    }
   ],
   "source": [
    "points"
   ]
  },
  {
   "cell_type": "code",
   "execution_count": 9,
   "metadata": {},
   "outputs": [
    {
     "data": {
      "text/plain": [
       "[{'name': '圖書館', 'lat': 24.786606833598242, 'lon': 120.99820507103847},\n",
       " {'name': '第二餐廳', 'lat': 24.789345225611136, 'lon': 120.99719144686011},\n",
       " {'name': '小木屋鬆餅', 'lat': 24.787687190478, 'lon': 120.99764017172566},\n",
       " {'name': '第一餐廳', 'lat': 24.786538076257727, 'lon': 120.99939833724402},\n",
       " {'name': '女二餐廳 - B棟', 'lat': 24.784575202593278, 'lon': 120.99950190913825},\n",
       " {'name': '女二餐廳 - A棟', 'lat': 24.78460447175565, 'lon': 120.99913188952512},\n",
       " {'name': '研三餐廳', 'lat': 24.783807451368112, 'lon': 120.9970736962237},\n",
       " {'name': '綜合球館', 'lat': 24.78989676741009, 'lon': 120.99505052315682},\n",
       " {'name': '游泳館', 'lat': 24.78994836636744, 'lon': 120.99588582600177},\n",
       " {'name': '西區球場（籃球場）', 'lat': 24.787529799424163, 'lon': 120.99493029548856},\n",
       " {'name': '西區球場（排球場）', 'lat': 24.78795350500375, 'lon': 120.9949437065332},\n",
       " {'name': '西區球場（網球場）', 'lat': 24.787286289815594, 'lon': 120.99471840098307},\n",
       " {'name': '東區球場（羽球舊館）', 'lat': 24.78712029314653, 'lon': 121.00140408586178},\n",
       " {'name': '東區球場（戶外網球場）', 'lat': 24.78754101633732, 'lon': 121.0014888461622},\n",
       " {'name': '體育館', 'lat': 24.788936658471613, 'lon': 120.99577723048645}]"
      ]
     },
     "execution_count": 9,
     "metadata": {},
     "output_type": "execute_result"
    }
   ],
   "source": [
    "pointsForVis = []\n",
    "for point in points:\n",
    "    pointsForVis.append({\"name\": point[\"locationName\"], \n",
    "                         \"lat\": float(point[\"coordinates\"][\"latitude\"]), \n",
    "                         \"lon\": float(point[\"coordinates\"][\"longitude\"])\n",
    "                        })\n",
    "pointsForVis"
   ]
  },
  {
   "cell_type": "code",
   "execution_count": 10,
   "metadata": {},
   "outputs": [],
   "source": [
    "with open(\".mapbox_token\") as f:\n",
    "    px.set_mapbox_access_token(f.read())\n",
    "fig = px.scatter_mapbox(pointsForVis,\n",
    "                        lat=\"lat\",\n",
    "                        lon=\"lon\",\n",
    "                        hover_name=\"name\")"
   ]
  },
  {
   "cell_type": "code",
   "execution_count": 11,
   "metadata": {},
   "outputs": [
    {
     "data": {
      "application/vnd.plotly.v1+json": {
       "config": {
        "plotlyServerURL": "https://plot.ly"
       },
       "data": [
        {
         "hovertemplate": "<b>%{hovertext}</b><br><br>lat=%{lat}<br>lon=%{lon}<extra></extra>",
         "hovertext": [
          "圖書館",
          "第二餐廳",
          "小木屋鬆餅",
          "第一餐廳",
          "女二餐廳 - B棟",
          "女二餐廳 - A棟",
          "研三餐廳",
          "綜合球館",
          "游泳館",
          "西區球場（籃球場）",
          "西區球場（排球場）",
          "西區球場（網球場）",
          "東區球場（羽球舊館）",
          "東區球場（戶外網球場）",
          "體育館"
         ],
         "lat": [
          24.786606833598242,
          24.789345225611136,
          24.787687190478,
          24.786538076257727,
          24.784575202593278,
          24.78460447175565,
          24.783807451368112,
          24.78989676741009,
          24.78994836636744,
          24.787529799424163,
          24.78795350500375,
          24.787286289815594,
          24.78712029314653,
          24.78754101633732,
          24.788936658471613
         ],
         "legendgroup": "",
         "lon": [
          120.99820507103847,
          120.99719144686011,
          120.99764017172566,
          120.99939833724402,
          120.99950190913825,
          120.99913188952512,
          120.9970736962237,
          120.99505052315682,
          120.99588582600177,
          120.99493029548856,
          120.9949437065332,
          120.99471840098307,
          121.00140408586178,
          121.0014888461622,
          120.99577723048645
         ],
         "marker": {
          "color": "#636efa"
         },
         "mode": "markers",
         "name": "",
         "showlegend": false,
         "subplot": "mapbox",
         "type": "scattermapbox"
        }
       ],
       "layout": {
        "legend": {
         "tracegroupgap": 0
        },
        "mapbox": {
         "accesstoken": "pk.eyJ1IjoiY2FtcHVzLWNyb3dkc291cmNpbmciLCJhIjoiY2wwbTFkY2xuMDFpYjNjbzdrMWZuMHNrbiJ9.hUZ0z-z9qDkkZeKt6WwFIA",
         "center": {
          "lat": 24.78729180984258,
          "lon": 120.9974894290953
         },
         "domain": {
          "x": [
           0,
           1
          ],
          "y": [
           0,
           1
          ]
         },
         "zoom": 8
        },
        "margin": {
         "t": 60
        },
        "template": {
         "data": {
          "bar": [
           {
            "error_x": {
             "color": "#2a3f5f"
            },
            "error_y": {
             "color": "#2a3f5f"
            },
            "marker": {
             "line": {
              "color": "#E5ECF6",
              "width": 0.5
             },
             "pattern": {
              "fillmode": "overlay",
              "size": 10,
              "solidity": 0.2
             }
            },
            "type": "bar"
           }
          ],
          "barpolar": [
           {
            "marker": {
             "line": {
              "color": "#E5ECF6",
              "width": 0.5
             },
             "pattern": {
              "fillmode": "overlay",
              "size": 10,
              "solidity": 0.2
             }
            },
            "type": "barpolar"
           }
          ],
          "carpet": [
           {
            "aaxis": {
             "endlinecolor": "#2a3f5f",
             "gridcolor": "white",
             "linecolor": "white",
             "minorgridcolor": "white",
             "startlinecolor": "#2a3f5f"
            },
            "baxis": {
             "endlinecolor": "#2a3f5f",
             "gridcolor": "white",
             "linecolor": "white",
             "minorgridcolor": "white",
             "startlinecolor": "#2a3f5f"
            },
            "type": "carpet"
           }
          ],
          "choropleth": [
           {
            "colorbar": {
             "outlinewidth": 0,
             "ticks": ""
            },
            "type": "choropleth"
           }
          ],
          "contour": [
           {
            "colorbar": {
             "outlinewidth": 0,
             "ticks": ""
            },
            "colorscale": [
             [
              0,
              "#0d0887"
             ],
             [
              0.1111111111111111,
              "#46039f"
             ],
             [
              0.2222222222222222,
              "#7201a8"
             ],
             [
              0.3333333333333333,
              "#9c179e"
             ],
             [
              0.4444444444444444,
              "#bd3786"
             ],
             [
              0.5555555555555556,
              "#d8576b"
             ],
             [
              0.6666666666666666,
              "#ed7953"
             ],
             [
              0.7777777777777778,
              "#fb9f3a"
             ],
             [
              0.8888888888888888,
              "#fdca26"
             ],
             [
              1,
              "#f0f921"
             ]
            ],
            "type": "contour"
           }
          ],
          "contourcarpet": [
           {
            "colorbar": {
             "outlinewidth": 0,
             "ticks": ""
            },
            "type": "contourcarpet"
           }
          ],
          "heatmap": [
           {
            "colorbar": {
             "outlinewidth": 0,
             "ticks": ""
            },
            "colorscale": [
             [
              0,
              "#0d0887"
             ],
             [
              0.1111111111111111,
              "#46039f"
             ],
             [
              0.2222222222222222,
              "#7201a8"
             ],
             [
              0.3333333333333333,
              "#9c179e"
             ],
             [
              0.4444444444444444,
              "#bd3786"
             ],
             [
              0.5555555555555556,
              "#d8576b"
             ],
             [
              0.6666666666666666,
              "#ed7953"
             ],
             [
              0.7777777777777778,
              "#fb9f3a"
             ],
             [
              0.8888888888888888,
              "#fdca26"
             ],
             [
              1,
              "#f0f921"
             ]
            ],
            "type": "heatmap"
           }
          ],
          "heatmapgl": [
           {
            "colorbar": {
             "outlinewidth": 0,
             "ticks": ""
            },
            "colorscale": [
             [
              0,
              "#0d0887"
             ],
             [
              0.1111111111111111,
              "#46039f"
             ],
             [
              0.2222222222222222,
              "#7201a8"
             ],
             [
              0.3333333333333333,
              "#9c179e"
             ],
             [
              0.4444444444444444,
              "#bd3786"
             ],
             [
              0.5555555555555556,
              "#d8576b"
             ],
             [
              0.6666666666666666,
              "#ed7953"
             ],
             [
              0.7777777777777778,
              "#fb9f3a"
             ],
             [
              0.8888888888888888,
              "#fdca26"
             ],
             [
              1,
              "#f0f921"
             ]
            ],
            "type": "heatmapgl"
           }
          ],
          "histogram": [
           {
            "marker": {
             "pattern": {
              "fillmode": "overlay",
              "size": 10,
              "solidity": 0.2
             }
            },
            "type": "histogram"
           }
          ],
          "histogram2d": [
           {
            "colorbar": {
             "outlinewidth": 0,
             "ticks": ""
            },
            "colorscale": [
             [
              0,
              "#0d0887"
             ],
             [
              0.1111111111111111,
              "#46039f"
             ],
             [
              0.2222222222222222,
              "#7201a8"
             ],
             [
              0.3333333333333333,
              "#9c179e"
             ],
             [
              0.4444444444444444,
              "#bd3786"
             ],
             [
              0.5555555555555556,
              "#d8576b"
             ],
             [
              0.6666666666666666,
              "#ed7953"
             ],
             [
              0.7777777777777778,
              "#fb9f3a"
             ],
             [
              0.8888888888888888,
              "#fdca26"
             ],
             [
              1,
              "#f0f921"
             ]
            ],
            "type": "histogram2d"
           }
          ],
          "histogram2dcontour": [
           {
            "colorbar": {
             "outlinewidth": 0,
             "ticks": ""
            },
            "colorscale": [
             [
              0,
              "#0d0887"
             ],
             [
              0.1111111111111111,
              "#46039f"
             ],
             [
              0.2222222222222222,
              "#7201a8"
             ],
             [
              0.3333333333333333,
              "#9c179e"
             ],
             [
              0.4444444444444444,
              "#bd3786"
             ],
             [
              0.5555555555555556,
              "#d8576b"
             ],
             [
              0.6666666666666666,
              "#ed7953"
             ],
             [
              0.7777777777777778,
              "#fb9f3a"
             ],
             [
              0.8888888888888888,
              "#fdca26"
             ],
             [
              1,
              "#f0f921"
             ]
            ],
            "type": "histogram2dcontour"
           }
          ],
          "mesh3d": [
           {
            "colorbar": {
             "outlinewidth": 0,
             "ticks": ""
            },
            "type": "mesh3d"
           }
          ],
          "parcoords": [
           {
            "line": {
             "colorbar": {
              "outlinewidth": 0,
              "ticks": ""
             }
            },
            "type": "parcoords"
           }
          ],
          "pie": [
           {
            "automargin": true,
            "type": "pie"
           }
          ],
          "scatter": [
           {
            "marker": {
             "colorbar": {
              "outlinewidth": 0,
              "ticks": ""
             }
            },
            "type": "scatter"
           }
          ],
          "scatter3d": [
           {
            "line": {
             "colorbar": {
              "outlinewidth": 0,
              "ticks": ""
             }
            },
            "marker": {
             "colorbar": {
              "outlinewidth": 0,
              "ticks": ""
             }
            },
            "type": "scatter3d"
           }
          ],
          "scattercarpet": [
           {
            "marker": {
             "colorbar": {
              "outlinewidth": 0,
              "ticks": ""
             }
            },
            "type": "scattercarpet"
           }
          ],
          "scattergeo": [
           {
            "marker": {
             "colorbar": {
              "outlinewidth": 0,
              "ticks": ""
             }
            },
            "type": "scattergeo"
           }
          ],
          "scattergl": [
           {
            "marker": {
             "colorbar": {
              "outlinewidth": 0,
              "ticks": ""
             }
            },
            "type": "scattergl"
           }
          ],
          "scattermapbox": [
           {
            "marker": {
             "colorbar": {
              "outlinewidth": 0,
              "ticks": ""
             }
            },
            "type": "scattermapbox"
           }
          ],
          "scatterpolar": [
           {
            "marker": {
             "colorbar": {
              "outlinewidth": 0,
              "ticks": ""
             }
            },
            "type": "scatterpolar"
           }
          ],
          "scatterpolargl": [
           {
            "marker": {
             "colorbar": {
              "outlinewidth": 0,
              "ticks": ""
             }
            },
            "type": "scatterpolargl"
           }
          ],
          "scatterternary": [
           {
            "marker": {
             "colorbar": {
              "outlinewidth": 0,
              "ticks": ""
             }
            },
            "type": "scatterternary"
           }
          ],
          "surface": [
           {
            "colorbar": {
             "outlinewidth": 0,
             "ticks": ""
            },
            "colorscale": [
             [
              0,
              "#0d0887"
             ],
             [
              0.1111111111111111,
              "#46039f"
             ],
             [
              0.2222222222222222,
              "#7201a8"
             ],
             [
              0.3333333333333333,
              "#9c179e"
             ],
             [
              0.4444444444444444,
              "#bd3786"
             ],
             [
              0.5555555555555556,
              "#d8576b"
             ],
             [
              0.6666666666666666,
              "#ed7953"
             ],
             [
              0.7777777777777778,
              "#fb9f3a"
             ],
             [
              0.8888888888888888,
              "#fdca26"
             ],
             [
              1,
              "#f0f921"
             ]
            ],
            "type": "surface"
           }
          ],
          "table": [
           {
            "cells": {
             "fill": {
              "color": "#EBF0F8"
             },
             "line": {
              "color": "white"
             }
            },
            "header": {
             "fill": {
              "color": "#C8D4E3"
             },
             "line": {
              "color": "white"
             }
            },
            "type": "table"
           }
          ]
         },
         "layout": {
          "annotationdefaults": {
           "arrowcolor": "#2a3f5f",
           "arrowhead": 0,
           "arrowwidth": 1
          },
          "autotypenumbers": "strict",
          "coloraxis": {
           "colorbar": {
            "outlinewidth": 0,
            "ticks": ""
           }
          },
          "colorscale": {
           "diverging": [
            [
             0,
             "#8e0152"
            ],
            [
             0.1,
             "#c51b7d"
            ],
            [
             0.2,
             "#de77ae"
            ],
            [
             0.3,
             "#f1b6da"
            ],
            [
             0.4,
             "#fde0ef"
            ],
            [
             0.5,
             "#f7f7f7"
            ],
            [
             0.6,
             "#e6f5d0"
            ],
            [
             0.7,
             "#b8e186"
            ],
            [
             0.8,
             "#7fbc41"
            ],
            [
             0.9,
             "#4d9221"
            ],
            [
             1,
             "#276419"
            ]
           ],
           "sequential": [
            [
             0,
             "#0d0887"
            ],
            [
             0.1111111111111111,
             "#46039f"
            ],
            [
             0.2222222222222222,
             "#7201a8"
            ],
            [
             0.3333333333333333,
             "#9c179e"
            ],
            [
             0.4444444444444444,
             "#bd3786"
            ],
            [
             0.5555555555555556,
             "#d8576b"
            ],
            [
             0.6666666666666666,
             "#ed7953"
            ],
            [
             0.7777777777777778,
             "#fb9f3a"
            ],
            [
             0.8888888888888888,
             "#fdca26"
            ],
            [
             1,
             "#f0f921"
            ]
           ],
           "sequentialminus": [
            [
             0,
             "#0d0887"
            ],
            [
             0.1111111111111111,
             "#46039f"
            ],
            [
             0.2222222222222222,
             "#7201a8"
            ],
            [
             0.3333333333333333,
             "#9c179e"
            ],
            [
             0.4444444444444444,
             "#bd3786"
            ],
            [
             0.5555555555555556,
             "#d8576b"
            ],
            [
             0.6666666666666666,
             "#ed7953"
            ],
            [
             0.7777777777777778,
             "#fb9f3a"
            ],
            [
             0.8888888888888888,
             "#fdca26"
            ],
            [
             1,
             "#f0f921"
            ]
           ]
          },
          "colorway": [
           "#636efa",
           "#EF553B",
           "#00cc96",
           "#ab63fa",
           "#FFA15A",
           "#19d3f3",
           "#FF6692",
           "#B6E880",
           "#FF97FF",
           "#FECB52"
          ],
          "font": {
           "color": "#2a3f5f"
          },
          "geo": {
           "bgcolor": "white",
           "lakecolor": "white",
           "landcolor": "#E5ECF6",
           "showlakes": true,
           "showland": true,
           "subunitcolor": "white"
          },
          "hoverlabel": {
           "align": "left"
          },
          "hovermode": "closest",
          "mapbox": {
           "style": "light"
          },
          "paper_bgcolor": "white",
          "plot_bgcolor": "#E5ECF6",
          "polar": {
           "angularaxis": {
            "gridcolor": "white",
            "linecolor": "white",
            "ticks": ""
           },
           "bgcolor": "#E5ECF6",
           "radialaxis": {
            "gridcolor": "white",
            "linecolor": "white",
            "ticks": ""
           }
          },
          "scene": {
           "xaxis": {
            "backgroundcolor": "#E5ECF6",
            "gridcolor": "white",
            "gridwidth": 2,
            "linecolor": "white",
            "showbackground": true,
            "ticks": "",
            "zerolinecolor": "white"
           },
           "yaxis": {
            "backgroundcolor": "#E5ECF6",
            "gridcolor": "white",
            "gridwidth": 2,
            "linecolor": "white",
            "showbackground": true,
            "ticks": "",
            "zerolinecolor": "white"
           },
           "zaxis": {
            "backgroundcolor": "#E5ECF6",
            "gridcolor": "white",
            "gridwidth": 2,
            "linecolor": "white",
            "showbackground": true,
            "ticks": "",
            "zerolinecolor": "white"
           }
          },
          "shapedefaults": {
           "line": {
            "color": "#2a3f5f"
           }
          },
          "ternary": {
           "aaxis": {
            "gridcolor": "white",
            "linecolor": "white",
            "ticks": ""
           },
           "baxis": {
            "gridcolor": "white",
            "linecolor": "white",
            "ticks": ""
           },
           "bgcolor": "#E5ECF6",
           "caxis": {
            "gridcolor": "white",
            "linecolor": "white",
            "ticks": ""
           }
          },
          "title": {
           "x": 0.05
          },
          "xaxis": {
           "automargin": true,
           "gridcolor": "white",
           "linecolor": "white",
           "ticks": "",
           "title": {
            "standoff": 15
           },
           "zerolinecolor": "white",
           "zerolinewidth": 2
          },
          "yaxis": {
           "automargin": true,
           "gridcolor": "white",
           "linecolor": "white",
           "ticks": "",
           "title": {
            "standoff": 15
           },
           "zerolinecolor": "white",
           "zerolinewidth": 2
          }
         }
        }
       }
      },
      "text/html": [
       "<div>                            <div id=\"8f7a9781-cff5-41cb-a1ed-0f6ff97e0034\" class=\"plotly-graph-div\" style=\"height:525px; width:100%;\"></div>            <script type=\"text/javascript\">                require([\"plotly\"], function(Plotly) {                    window.PLOTLYENV=window.PLOTLYENV || {};                                    if (document.getElementById(\"8f7a9781-cff5-41cb-a1ed-0f6ff97e0034\")) {                    Plotly.newPlot(                        \"8f7a9781-cff5-41cb-a1ed-0f6ff97e0034\",                        [{\"hovertemplate\":\"<b>%{hovertext}</b><br><br>lat=%{lat}<br>lon=%{lon}<extra></extra>\",\"hovertext\":[\"\\u5716\\u66f8\\u9928\",\"\\u7b2c\\u4e8c\\u9910\\u5ef3\",\"\\u5c0f\\u6728\\u5c4b\\u9b06\\u9905\",\"\\u7b2c\\u4e00\\u9910\\u5ef3\",\"\\u5973\\u4e8c\\u9910\\u5ef3 - B\\u68df\",\"\\u5973\\u4e8c\\u9910\\u5ef3 - A\\u68df\",\"\\u7814\\u4e09\\u9910\\u5ef3\",\"\\u7d9c\\u5408\\u7403\\u9928\",\"\\u6e38\\u6cf3\\u9928\",\"\\u897f\\u5340\\u7403\\u5834\\uff08\\u7c43\\u7403\\u5834\\uff09\",\"\\u897f\\u5340\\u7403\\u5834\\uff08\\u6392\\u7403\\u5834\\uff09\",\"\\u897f\\u5340\\u7403\\u5834\\uff08\\u7db2\\u7403\\u5834\\uff09\",\"\\u6771\\u5340\\u7403\\u5834\\uff08\\u7fbd\\u7403\\u820a\\u9928\\uff09\",\"\\u6771\\u5340\\u7403\\u5834\\uff08\\u6236\\u5916\\u7db2\\u7403\\u5834\\uff09\",\"\\u9ad4\\u80b2\\u9928\"],\"lat\":[24.786606833598242,24.789345225611136,24.787687190478,24.786538076257727,24.784575202593278,24.78460447175565,24.783807451368112,24.78989676741009,24.78994836636744,24.787529799424163,24.78795350500375,24.787286289815594,24.78712029314653,24.78754101633732,24.788936658471613],\"legendgroup\":\"\",\"lon\":[120.99820507103847,120.99719144686011,120.99764017172566,120.99939833724402,120.99950190913825,120.99913188952512,120.9970736962237,120.99505052315682,120.99588582600177,120.99493029548856,120.9949437065332,120.99471840098307,121.00140408586178,121.0014888461622,120.99577723048645],\"marker\":{\"color\":\"#636efa\"},\"mode\":\"markers\",\"name\":\"\",\"showlegend\":false,\"subplot\":\"mapbox\",\"type\":\"scattermapbox\"}],                        {\"template\":{\"data\":{\"bar\":[{\"error_x\":{\"color\":\"#2a3f5f\"},\"error_y\":{\"color\":\"#2a3f5f\"},\"marker\":{\"line\":{\"color\":\"#E5ECF6\",\"width\":0.5},\"pattern\":{\"fillmode\":\"overlay\",\"size\":10,\"solidity\":0.2}},\"type\":\"bar\"}],\"barpolar\":[{\"marker\":{\"line\":{\"color\":\"#E5ECF6\",\"width\":0.5},\"pattern\":{\"fillmode\":\"overlay\",\"size\":10,\"solidity\":0.2}},\"type\":\"barpolar\"}],\"carpet\":[{\"aaxis\":{\"endlinecolor\":\"#2a3f5f\",\"gridcolor\":\"white\",\"linecolor\":\"white\",\"minorgridcolor\":\"white\",\"startlinecolor\":\"#2a3f5f\"},\"baxis\":{\"endlinecolor\":\"#2a3f5f\",\"gridcolor\":\"white\",\"linecolor\":\"white\",\"minorgridcolor\":\"white\",\"startlinecolor\":\"#2a3f5f\"},\"type\":\"carpet\"}],\"choropleth\":[{\"colorbar\":{\"outlinewidth\":0,\"ticks\":\"\"},\"type\":\"choropleth\"}],\"contour\":[{\"colorbar\":{\"outlinewidth\":0,\"ticks\":\"\"},\"colorscale\":[[0.0,\"#0d0887\"],[0.1111111111111111,\"#46039f\"],[0.2222222222222222,\"#7201a8\"],[0.3333333333333333,\"#9c179e\"],[0.4444444444444444,\"#bd3786\"],[0.5555555555555556,\"#d8576b\"],[0.6666666666666666,\"#ed7953\"],[0.7777777777777778,\"#fb9f3a\"],[0.8888888888888888,\"#fdca26\"],[1.0,\"#f0f921\"]],\"type\":\"contour\"}],\"contourcarpet\":[{\"colorbar\":{\"outlinewidth\":0,\"ticks\":\"\"},\"type\":\"contourcarpet\"}],\"heatmap\":[{\"colorbar\":{\"outlinewidth\":0,\"ticks\":\"\"},\"colorscale\":[[0.0,\"#0d0887\"],[0.1111111111111111,\"#46039f\"],[0.2222222222222222,\"#7201a8\"],[0.3333333333333333,\"#9c179e\"],[0.4444444444444444,\"#bd3786\"],[0.5555555555555556,\"#d8576b\"],[0.6666666666666666,\"#ed7953\"],[0.7777777777777778,\"#fb9f3a\"],[0.8888888888888888,\"#fdca26\"],[1.0,\"#f0f921\"]],\"type\":\"heatmap\"}],\"heatmapgl\":[{\"colorbar\":{\"outlinewidth\":0,\"ticks\":\"\"},\"colorscale\":[[0.0,\"#0d0887\"],[0.1111111111111111,\"#46039f\"],[0.2222222222222222,\"#7201a8\"],[0.3333333333333333,\"#9c179e\"],[0.4444444444444444,\"#bd3786\"],[0.5555555555555556,\"#d8576b\"],[0.6666666666666666,\"#ed7953\"],[0.7777777777777778,\"#fb9f3a\"],[0.8888888888888888,\"#fdca26\"],[1.0,\"#f0f921\"]],\"type\":\"heatmapgl\"}],\"histogram\":[{\"marker\":{\"pattern\":{\"fillmode\":\"overlay\",\"size\":10,\"solidity\":0.2}},\"type\":\"histogram\"}],\"histogram2d\":[{\"colorbar\":{\"outlinewidth\":0,\"ticks\":\"\"},\"colorscale\":[[0.0,\"#0d0887\"],[0.1111111111111111,\"#46039f\"],[0.2222222222222222,\"#7201a8\"],[0.3333333333333333,\"#9c179e\"],[0.4444444444444444,\"#bd3786\"],[0.5555555555555556,\"#d8576b\"],[0.6666666666666666,\"#ed7953\"],[0.7777777777777778,\"#fb9f3a\"],[0.8888888888888888,\"#fdca26\"],[1.0,\"#f0f921\"]],\"type\":\"histogram2d\"}],\"histogram2dcontour\":[{\"colorbar\":{\"outlinewidth\":0,\"ticks\":\"\"},\"colorscale\":[[0.0,\"#0d0887\"],[0.1111111111111111,\"#46039f\"],[0.2222222222222222,\"#7201a8\"],[0.3333333333333333,\"#9c179e\"],[0.4444444444444444,\"#bd3786\"],[0.5555555555555556,\"#d8576b\"],[0.6666666666666666,\"#ed7953\"],[0.7777777777777778,\"#fb9f3a\"],[0.8888888888888888,\"#fdca26\"],[1.0,\"#f0f921\"]],\"type\":\"histogram2dcontour\"}],\"mesh3d\":[{\"colorbar\":{\"outlinewidth\":0,\"ticks\":\"\"},\"type\":\"mesh3d\"}],\"parcoords\":[{\"line\":{\"colorbar\":{\"outlinewidth\":0,\"ticks\":\"\"}},\"type\":\"parcoords\"}],\"pie\":[{\"automargin\":true,\"type\":\"pie\"}],\"scatter\":[{\"marker\":{\"colorbar\":{\"outlinewidth\":0,\"ticks\":\"\"}},\"type\":\"scatter\"}],\"scatter3d\":[{\"line\":{\"colorbar\":{\"outlinewidth\":0,\"ticks\":\"\"}},\"marker\":{\"colorbar\":{\"outlinewidth\":0,\"ticks\":\"\"}},\"type\":\"scatter3d\"}],\"scattercarpet\":[{\"marker\":{\"colorbar\":{\"outlinewidth\":0,\"ticks\":\"\"}},\"type\":\"scattercarpet\"}],\"scattergeo\":[{\"marker\":{\"colorbar\":{\"outlinewidth\":0,\"ticks\":\"\"}},\"type\":\"scattergeo\"}],\"scattergl\":[{\"marker\":{\"colorbar\":{\"outlinewidth\":0,\"ticks\":\"\"}},\"type\":\"scattergl\"}],\"scattermapbox\":[{\"marker\":{\"colorbar\":{\"outlinewidth\":0,\"ticks\":\"\"}},\"type\":\"scattermapbox\"}],\"scatterpolar\":[{\"marker\":{\"colorbar\":{\"outlinewidth\":0,\"ticks\":\"\"}},\"type\":\"scatterpolar\"}],\"scatterpolargl\":[{\"marker\":{\"colorbar\":{\"outlinewidth\":0,\"ticks\":\"\"}},\"type\":\"scatterpolargl\"}],\"scatterternary\":[{\"marker\":{\"colorbar\":{\"outlinewidth\":0,\"ticks\":\"\"}},\"type\":\"scatterternary\"}],\"surface\":[{\"colorbar\":{\"outlinewidth\":0,\"ticks\":\"\"},\"colorscale\":[[0.0,\"#0d0887\"],[0.1111111111111111,\"#46039f\"],[0.2222222222222222,\"#7201a8\"],[0.3333333333333333,\"#9c179e\"],[0.4444444444444444,\"#bd3786\"],[0.5555555555555556,\"#d8576b\"],[0.6666666666666666,\"#ed7953\"],[0.7777777777777778,\"#fb9f3a\"],[0.8888888888888888,\"#fdca26\"],[1.0,\"#f0f921\"]],\"type\":\"surface\"}],\"table\":[{\"cells\":{\"fill\":{\"color\":\"#EBF0F8\"},\"line\":{\"color\":\"white\"}},\"header\":{\"fill\":{\"color\":\"#C8D4E3\"},\"line\":{\"color\":\"white\"}},\"type\":\"table\"}]},\"layout\":{\"annotationdefaults\":{\"arrowcolor\":\"#2a3f5f\",\"arrowhead\":0,\"arrowwidth\":1},\"autotypenumbers\":\"strict\",\"coloraxis\":{\"colorbar\":{\"outlinewidth\":0,\"ticks\":\"\"}},\"colorscale\":{\"diverging\":[[0,\"#8e0152\"],[0.1,\"#c51b7d\"],[0.2,\"#de77ae\"],[0.3,\"#f1b6da\"],[0.4,\"#fde0ef\"],[0.5,\"#f7f7f7\"],[0.6,\"#e6f5d0\"],[0.7,\"#b8e186\"],[0.8,\"#7fbc41\"],[0.9,\"#4d9221\"],[1,\"#276419\"]],\"sequential\":[[0.0,\"#0d0887\"],[0.1111111111111111,\"#46039f\"],[0.2222222222222222,\"#7201a8\"],[0.3333333333333333,\"#9c179e\"],[0.4444444444444444,\"#bd3786\"],[0.5555555555555556,\"#d8576b\"],[0.6666666666666666,\"#ed7953\"],[0.7777777777777778,\"#fb9f3a\"],[0.8888888888888888,\"#fdca26\"],[1.0,\"#f0f921\"]],\"sequentialminus\":[[0.0,\"#0d0887\"],[0.1111111111111111,\"#46039f\"],[0.2222222222222222,\"#7201a8\"],[0.3333333333333333,\"#9c179e\"],[0.4444444444444444,\"#bd3786\"],[0.5555555555555556,\"#d8576b\"],[0.6666666666666666,\"#ed7953\"],[0.7777777777777778,\"#fb9f3a\"],[0.8888888888888888,\"#fdca26\"],[1.0,\"#f0f921\"]]},\"colorway\":[\"#636efa\",\"#EF553B\",\"#00cc96\",\"#ab63fa\",\"#FFA15A\",\"#19d3f3\",\"#FF6692\",\"#B6E880\",\"#FF97FF\",\"#FECB52\"],\"font\":{\"color\":\"#2a3f5f\"},\"geo\":{\"bgcolor\":\"white\",\"lakecolor\":\"white\",\"landcolor\":\"#E5ECF6\",\"showlakes\":true,\"showland\":true,\"subunitcolor\":\"white\"},\"hoverlabel\":{\"align\":\"left\"},\"hovermode\":\"closest\",\"mapbox\":{\"style\":\"light\"},\"paper_bgcolor\":\"white\",\"plot_bgcolor\":\"#E5ECF6\",\"polar\":{\"angularaxis\":{\"gridcolor\":\"white\",\"linecolor\":\"white\",\"ticks\":\"\"},\"bgcolor\":\"#E5ECF6\",\"radialaxis\":{\"gridcolor\":\"white\",\"linecolor\":\"white\",\"ticks\":\"\"}},\"scene\":{\"xaxis\":{\"backgroundcolor\":\"#E5ECF6\",\"gridcolor\":\"white\",\"gridwidth\":2,\"linecolor\":\"white\",\"showbackground\":true,\"ticks\":\"\",\"zerolinecolor\":\"white\"},\"yaxis\":{\"backgroundcolor\":\"#E5ECF6\",\"gridcolor\":\"white\",\"gridwidth\":2,\"linecolor\":\"white\",\"showbackground\":true,\"ticks\":\"\",\"zerolinecolor\":\"white\"},\"zaxis\":{\"backgroundcolor\":\"#E5ECF6\",\"gridcolor\":\"white\",\"gridwidth\":2,\"linecolor\":\"white\",\"showbackground\":true,\"ticks\":\"\",\"zerolinecolor\":\"white\"}},\"shapedefaults\":{\"line\":{\"color\":\"#2a3f5f\"}},\"ternary\":{\"aaxis\":{\"gridcolor\":\"white\",\"linecolor\":\"white\",\"ticks\":\"\"},\"baxis\":{\"gridcolor\":\"white\",\"linecolor\":\"white\",\"ticks\":\"\"},\"bgcolor\":\"#E5ECF6\",\"caxis\":{\"gridcolor\":\"white\",\"linecolor\":\"white\",\"ticks\":\"\"}},\"title\":{\"x\":0.05},\"xaxis\":{\"automargin\":true,\"gridcolor\":\"white\",\"linecolor\":\"white\",\"ticks\":\"\",\"title\":{\"standoff\":15},\"zerolinecolor\":\"white\",\"zerolinewidth\":2},\"yaxis\":{\"automargin\":true,\"gridcolor\":\"white\",\"linecolor\":\"white\",\"ticks\":\"\",\"title\":{\"standoff\":15},\"zerolinecolor\":\"white\",\"zerolinewidth\":2}}},\"mapbox\":{\"domain\":{\"x\":[0.0,1.0],\"y\":[0.0,1.0]},\"center\":{\"lat\":24.78729180984258,\"lon\":120.9974894290953},\"accesstoken\":\"pk.eyJ1IjoiY2FtcHVzLWNyb3dkc291cmNpbmciLCJhIjoiY2wwbTFkY2xuMDFpYjNjbzdrMWZuMHNrbiJ9.hUZ0z-z9qDkkZeKt6WwFIA\",\"zoom\":8},\"legend\":{\"tracegroupgap\":0},\"margin\":{\"t\":60}},                        {\"responsive\": true}                    ).then(function(){\n",
       "                            \n",
       "var gd = document.getElementById('8f7a9781-cff5-41cb-a1ed-0f6ff97e0034');\n",
       "var x = new MutationObserver(function (mutations, observer) {{\n",
       "        var display = window.getComputedStyle(gd).display;\n",
       "        if (!display || display === 'none') {{\n",
       "            console.log([gd, 'removed!']);\n",
       "            Plotly.purge(gd);\n",
       "            observer.disconnect();\n",
       "        }}\n",
       "}});\n",
       "\n",
       "// Listen for the removal of the full notebook cells\n",
       "var notebookContainer = gd.closest('#notebook-container');\n",
       "if (notebookContainer) {{\n",
       "    x.observe(notebookContainer, {childList: true});\n",
       "}}\n",
       "\n",
       "// Listen for the clearing of the current output cell\n",
       "var outputEl = gd.closest('.output');\n",
       "if (outputEl) {{\n",
       "    x.observe(outputEl, {childList: true});\n",
       "}}\n",
       "\n",
       "                        })                };                });            </script>        </div>"
      ]
     },
     "metadata": {},
     "output_type": "display_data"
    }
   ],
   "source": [
    "fig.show()"
   ]
  },
  {
   "cell_type": "code",
   "execution_count": null,
   "metadata": {},
   "outputs": [],
   "source": []
  }
 ],
 "metadata": {
  "kernelspec": {
   "display_name": "campus-user-log-vis",
   "language": "python",
   "name": "campus-user-log-vis"
  },
  "language_info": {
   "codemirror_mode": {
    "name": "ipython",
    "version": 3
   },
   "file_extension": ".py",
   "mimetype": "text/x-python",
   "name": "python",
   "nbconvert_exporter": "python",
   "pygments_lexer": "ipython3",
   "version": "3.8.12"
  }
 },
 "nbformat": 4,
 "nbformat_minor": 4
}
